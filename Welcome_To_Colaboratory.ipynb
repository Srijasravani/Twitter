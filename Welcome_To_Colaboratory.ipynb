{
  "cells": [
    {
      "cell_type": "markdown",
      "metadata": {
        "id": "view-in-github",
        "colab_type": "text"
      },
      "source": [
        "<a href=\"https://colab.research.google.com/github/Srijasravani/Twitter/blob/main/Welcome_To_Colaboratory.ipynb\" target=\"_parent\"><img src=\"https://colab.research.google.com/assets/colab-badge.svg\" alt=\"Open In Colab\"/></a>"
      ]
    },
    {
      "cell_type": "code",
      "source": [
        "import snscrape.modules.twitter as sntwitter\n",
        "import pandas as pd\n",
        "from pymongo import MongoClient\n",
        "\n",
        "query = \"(from:elonmusk) until:2023-01-10 since:2022-07-25\"\n",
        "tweets = []\n",
        "limit = 1000\n",
        "\n",
        "for tweet in sntwitter.TwitterSearchScraper(query).get_items():\n",
        "     if len(tweets) == limit:\n",
        "       break\n",
        "     else:\n",
        "       tweets.append([tweet.date, tweet.user.username, tweet.content, tweet.id, tweet.url, tweet.replyCount, tweet.retweetCount, tweet.likeCount])\n",
        "df = pd.DataFrame(tweets, columns=[\"Date\", \"User\", \"Tweet\", \"id\", \"url\", \"reply_count\", \"retweet_count\", \"like_count\"])\n",
        "print(df)\n",
        "df.dtypes\n",
        "df.to_csv(\"twitter.csv\")\n",
        "import pymongo\n",
        "def dftomonogdb(dataset):\n",
        "    import pymongo\n",
        "    connect = pymongo.MongoClient(host=\"localhost\",port=27017)\n",
        "    database = connect[\"TwitterDB\"]\n",
        "    collection = database[\"Twitter Scraping\"]\n",
        "\n",
        "\n",
        "    for (row,rs) in dataset.iterrows():\n",
        "        #print(row)\n",
        "        #r = rs\n",
        "        Date = rs[0]\n",
        "        User = rs[1]\n",
        "        Tweet = rs[2]\n",
        "        id = rs[3]\n",
        "        url = rs[4]\n",
        "        reply_count = rs[5]\n",
        "        retweet_count = rs[6]\n",
        "        like_count = rs[7]\n",
        "\n",
        "        d = {\"Date\":Date,\"User\":User,\"Tweet\":Tweet, \"id\":id, \"url\":url, \"reply_count\":reply_count, \"retweet_count\":retweet_count, \"like_count\":like_count}\n",
        "        \n",
        "        collection.insert_one(d)\n",
        "        \n",
        "        \n",
        "        \n",
        "    print(\"Done\")\n",
        "dftomonogdb(df)"
      ],
      "metadata": {
        "id": "yd557HMvnd8Z",
        "outputId": "1abbdd38-d455-4440-dcea-69257458518c",
        "colab": {
          "base_uri": "https://localhost:8080/"
        }
      },
      "execution_count": 8,
      "outputs": [
        {
          "output_type": "stream",
          "name": "stderr",
          "text": [
            "<ipython-input-8-34eb8eaef58c>:13: FutureWarning: content is deprecated, use rawContent instead\n",
            "  tweets.append([tweet.date, tweet.user.username, tweet.content, tweet.id, tweet.url, tweet.replyCount, tweet.retweetCount, tweet.likeCount])\n"
          ]
        },
        {
          "output_type": "stream",
          "name": "stdout",
          "text": [
            "                         Date      User  \\\n",
            "0   2023-01-06 18:46:13+00:00  elonmusk   \n",
            "1   2023-01-06 18:35:24+00:00  elonmusk   \n",
            "2   2023-01-06 18:05:15+00:00  elonmusk   \n",
            "3   2023-01-06 17:55:18+00:00  elonmusk   \n",
            "4   2023-01-06 09:47:24+00:00  elonmusk   \n",
            "..                        ...       ...   \n",
            "995 2022-12-02 02:15:02+00:00  elonmusk   \n",
            "996 2022-12-02 01:02:54+00:00  elonmusk   \n",
            "997 2022-12-02 00:42:50+00:00  elonmusk   \n",
            "998 2022-12-01 21:10:08+00:00  elonmusk   \n",
            "999 2022-12-01 20:55:14+00:00  elonmusk   \n",
            "\n",
            "                                                 Tweet                   id  \\\n",
            "0    @TheRabbitHole84 An actual Jurassic Park would...  1611433974035017729   \n",
            "1                                 (JCO was joking btw)  1611431254091763714   \n",
            "2    8 years later &amp; still no laws … 😢 https://...  1611423667107549184   \n",
            "3                                     @TheBabylonBee 🤣  1611421164265672704   \n",
            "4       @pmarca Twitter has at least 10 million Wokeys  1611298376737492992   \n",
            "..                                                 ...                  ...   \n",
            "995  @woodhaus2 Check out the Tesla exhibit at \\n@P...  1598500961835941889   \n",
            "996                 Tesla Semi Truck launch in 5 mins!  1598482808020029441   \n",
            "997                  Going live on Twitter in ~20 mins  1598477759730581504   \n",
            "998  @kanyewest Jesus taught love, kindness and for...  1598424232253218816   \n",
            "999  🇯🇵🇯🇵 Congratulations Japan! 🇯🇵🇯🇵\\nhttps://t.co...  1598420481769512960   \n",
            "\n",
            "                                                   url  reply_count  \\\n",
            "0    https://twitter.com/elonmusk/status/1611433974...         2437   \n",
            "1    https://twitter.com/elonmusk/status/1611431254...         4267   \n",
            "2    https://twitter.com/elonmusk/status/1611423667...        27280   \n",
            "3    https://twitter.com/elonmusk/status/1611421164...          865   \n",
            "4    https://twitter.com/elonmusk/status/1611298376...         3725   \n",
            "..                                                 ...          ...   \n",
            "995  https://twitter.com/elonmusk/status/1598500961...          220   \n",
            "996  https://twitter.com/elonmusk/status/1598482808...         7040   \n",
            "997  https://twitter.com/elonmusk/status/1598477759...         3297   \n",
            "998  https://twitter.com/elonmusk/status/1598424232...        15365   \n",
            "999  https://twitter.com/elonmusk/status/1598420481...        13201   \n",
            "\n",
            "     retweet_count  like_count  \n",
            "0              799       16626  \n",
            "1             2245       72218  \n",
            "2            31217      406819  \n",
            "3             1232       40177  \n",
            "4             2463       41062  \n",
            "..             ...         ...  \n",
            "995            270        4639  \n",
            "996           8279      101733  \n",
            "997           4099       52941  \n",
            "998          28801      270483  \n",
            "999          82313      716050  \n",
            "\n",
            "[1000 rows x 8 columns]\n"
          ]
        }
      ]
    }
  ],
  "metadata": {
    "colab": {
      "name": "Welcome To Colaboratory",
      "provenance": [],
      "include_colab_link": true
    },
    "kernelspec": {
      "display_name": "Python 3",
      "name": "python3"
    }
  },
  "nbformat": 4,
  "nbformat_minor": 0
}